{
  "cells": [
    {
      "cell_type": "code",
      "source": [
        "#Assignment-1,Task-2\n",
        "import numpy as np\n",
        "\n",
        "# 1. Lists\n",
        "list_data = [1, 2, 3, 4, 5]\n",
        "\n",
        "# 2. Arrays\n",
        "array_data = np.array(list_data)\n",
        "\n",
        "# 3. Identify their type using type()\n",
        "print(\"Type of list_data:\", type(list_data))\n",
        "print(\"Type of array_data:\", type(array_data))\n",
        "\n",
        "# 4. Perform mathematical operations\n",
        "result_multiply = array_data * 2\n",
        "result_divide = array_data / 2\n",
        "result_poweroff = np.power(array_data, 2)\n",
        "\n",
        "# Display results\n",
        "print(\"Multiplication:\", result_multiply)\n",
        "print(\"Division:\", result_divide)\n",
        "print(\"Power of 2:\", result_poweroff)\n",
        "\n",
        "# 5. Combine text with Numpy function\n",
        "text_output = f\"Addition of Two: {array_data} + {result_multiply}\"\n",
        "print(text_output)\n",
        "\n",
        "# 6. Implement np.sin(), np.log(), np.log2(), np.exp()\n",
        "result_sin = np.sin(array_data)\n",
        "result_log = np.log(array_data)\n",
        "result_log2 = np.log2(array_data)\n",
        "result_exp = np.exp(array_data)\n",
        "\n",
        "# Display results\n",
        "print(\"Sin:\", result_sin)\n",
        "print(\"Log:\", result_log)\n",
        "print(\"Log base 2:\", result_log2)\n",
        "print(\"Exponential:\", result_exp)"
      ],
      "metadata": {
        "id": "MywBpZj505qa",
        "outputId": "49f240a3-5c10-47b4-d063-9c2193baaa93",
        "colab": {
          "base_uri": "https://localhost:8080/"
        }
      },
      "execution_count": 4,
      "outputs": [
        {
          "output_type": "stream",
          "name": "stdout",
          "text": [
            "Type of list_data: <class 'list'>\n",
            "Type of array_data: <class 'numpy.ndarray'>\n",
            "Multiplication: [ 2  4  6  8 10]\n",
            "Division: [0.5 1.  1.5 2.  2.5]\n",
            "Power of 2: [ 1  4  9 16 25]\n",
            "Addition of Two: [1 2 3 4 5] + [ 2  4  6  8 10]\n",
            "Sin: [ 0.84147098  0.90929743  0.14112001 -0.7568025  -0.95892427]\n",
            "Log: [0.         0.69314718 1.09861229 1.38629436 1.60943791]\n",
            "Log base 2: [0.         1.         1.5849625  2.         2.32192809]\n",
            "Exponential: [  2.71828183   7.3890561   20.08553692  54.59815003 148.4131591 ]\n"
          ]
        }
      ]
    }
  ],
  "metadata": {
    "colab": {
      "name": "Welcome To Colaboratory",
      "toc_visible": true,
      "provenance": []
    },
    "kernelspec": {
      "display_name": "Python 3",
      "name": "python3"
    }
  },
  "nbformat": 4,
  "nbformat_minor": 0
}
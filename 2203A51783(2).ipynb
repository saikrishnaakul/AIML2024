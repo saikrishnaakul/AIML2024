{
  "nbformat": 4,
  "nbformat_minor": 0,
  "metadata": {
    "colab": {
      "provenance": []
    },
    "kernelspec": {
      "name": "python3",
      "display_name": "Python 3"
    },
    "language_info": {
      "name": "python"
    }
  },
  "cells": [
    {
      "cell_type": "code",
      "execution_count": 1,
      "metadata": {
        "colab": {
          "base_uri": "https://localhost:8080/"
        },
        "id": "fy61MS0qxA1K",
        "outputId": "8b02eb85-90f0-4c74-a012-ca4f7e99ab80"
      },
      "outputs": [
        {
          "output_type": "stream",
          "name": "stdout",
          "text": [
            "1. Lists: [1, 2, 3, 4, 5] [6, 7, 8, 9, 10]\n",
            "2. Arrays: [1 2 3 4 5] [ 6  7  8  9 10]\n",
            "3. Types: List: <class 'list'> | Array: <class 'numpy.ndarray'>\n",
            "4. Mathematical Operations:\n",
            "   Multiplication: [ 6 14 24 36 50]\n",
            "   Division: [6.         3.5        2.66666667 2.25       2.        ]\n",
            "   Power off: [ 1  4  9 16 25]\n",
            "5. Textual Output: Addition of Two: [1 2 3 4 5] + [ 6  7  8  9 10]\n",
            "6. NumPy Functions:\n",
            "   sin: [ 0.84147098  0.90929743  0.14112001 -0.7568025  -0.95892427]\n",
            "   log: [0.         0.69314718 1.09861229 1.38629436 1.60943791]\n",
            "   log2: [0.         1.         1.5849625  2.         2.32192809]\n",
            "   exp: [  2.71828183   7.3890561   20.08553692  54.59815003 148.4131591 ]\n"
          ]
        }
      ],
      "source": [
        "import numpy as np\n",
        "import pandas as pd\n",
        "\n",
        "# 1. Lists\n",
        "list1 = [1, 2, 3, 4, 5]\n",
        "list2 = [6, 7, 8, 9, 10]\n",
        "\n",
        "# 2. Arrays\n",
        "array1 = np.array(list1)\n",
        "array2 = np.array(list2)\n",
        "\n",
        "# 3. Identify their type using type()\n",
        "list_type = type(list1)\n",
        "array_type = type(array1)\n",
        "\n",
        "# 4. Perform mathematical operations\n",
        "# Multiplication\n",
        "mult_result = array1 * array2\n",
        "\n",
        "# Division\n",
        "div_result = array2 / array1\n",
        "\n",
        "# Power off\n",
        "poweroff_result = array1 ** 2\n",
        "\n",
        "# 5. Combine text with NumPy function\n",
        "text_output = f\"Addition of Two: {array1} + {array2}\"\n",
        "\n",
        "# 6. Implement np.sin(), log(), log2(), np.exp()\n",
        "sin_result = np.sin(array1)\n",
        "log_result = np.log(array1)\n",
        "log2_result = np.log2(array1)\n",
        "exp_result = np.exp(array1)\n",
        "\n",
        "# Display results\n",
        "print(\"1. Lists:\", list1, list2)\n",
        "print(\"2. Arrays:\", array1, array2)\n",
        "print(\"3. Types:\", \"List:\", list_type, \"| Array:\", array_type)\n",
        "print(\"4. Mathematical Operations:\")\n",
        "print(\"   Multiplication:\", mult_result)\n",
        "print(\"   Division:\", div_result)\n",
        "print(\"   Power off:\", poweroff_result)\n",
        "print(\"5. Textual Output:\", text_output)\n",
        "print(\"6. NumPy Functions:\")\n",
        "print(\"   sin:\", sin_result)\n",
        "print(\"   log:\", log_result)\n",
        "print(\"   log2:\", log2_result)\n",
        "print(\"   exp:\", exp_result)\n"
      ]
    }
  ]
}